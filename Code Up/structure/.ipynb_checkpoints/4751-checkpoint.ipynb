{
 "cells": [
  {
   "cell_type": "code",
   "execution_count": 14,
   "metadata": {},
   "outputs": [
    {
     "name": "stdout",
     "output_type": "stream",
     "text": [
      "9\n",
      "1 1 230\n",
      "1 2 210\n",
      "1 3 205\n",
      "2 1 100\n",
      "2 2 150\n",
      "3 1 175\n",
      "3 2 190\n",
      "3 3 180\n",
      "3 4 195\n",
      "1 1\n",
      "1 2\n",
      "3 4\n"
     ]
    }
   ],
   "source": [
    "# Code Up 4751 : 아시아 정보올림피아드\n",
    "\n",
    "# 메모리 33764 시간 21\n",
    "\n",
    "num=int(input())\n",
    "country=[0]*101\n",
    "data,cnt=[],0\n",
    "\n",
    "for i in range(num):\n",
    "    countrynum,student,score = input().split()\n",
    "    data.append([int(countrynum),int(student),int(score)]) #입력 값 저장\n",
    "    \n",
    "data.sort(key=lambda parameter:parameter[2], reverse=True) #점수에 대해 정렬\n",
    "\n",
    "for i in range(num):\n",
    "    if cnt==3:\n",
    "        break\n",
    "    if country[data[i][0]]!=2:\n",
    "        print(data[i][0],data[i][1])\n",
    "        country[data[i][0]]+=1\n",
    "        cnt+=1"
   ]
  }
 ],
 "metadata": {
  "kernelspec": {
   "display_name": "Python 3",
   "language": "python",
   "name": "python3"
  },
  "language_info": {
   "codemirror_mode": {
    "name": "ipython",
    "version": 3
   },
   "file_extension": ".py",
   "mimetype": "text/x-python",
   "name": "python",
   "nbconvert_exporter": "python",
   "pygments_lexer": "ipython3",
   "version": "3.8.3"
  }
 },
 "nbformat": 4,
 "nbformat_minor": 4
}
