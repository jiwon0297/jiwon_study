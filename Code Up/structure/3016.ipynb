{
 "cells": [
  {
   "cell_type": "code",
   "execution_count": 1,
   "metadata": {},
   "outputs": [
    {
     "name": "stdout",
     "output_type": "stream",
     "text": [
      "4\n",
      "Jeon 95 80 100\n",
      "Kim 59 85 75\n",
      "Lee 90 100 75\n",
      "Bae 100 82 80\n",
      "Bae 3 2\n"
     ]
    }
   ],
   "source": [
    "# Code Up 3016 : 1등한 학생의 성적\n",
    "# 메모리 33764 시간 22\n",
    "\n",
    "data=int(input())\n",
    "score=[]\n",
    "\n",
    "for i in range(data):\n",
    "    name,a,b,c=input().strip().split()\n",
    "    score.append([name,int(a),int(b),int(c)]) #입력 값 저장\n",
    "    \n",
    "sub1=sorted(score, key=lambda parameter:parameter[1], reverse=True)\n",
    "#첫번째 과목 값으로 모든 행렬 정렬해서 저장\n",
    "sub2=[score[i][2] for i in range(data)]\n",
    "sub2.sort(reverse=True)\n",
    "#두번째 과목 값만 list로 만들어서 정렬\n",
    "sub3=[score[i][3] for i in range(data)]\n",
    "sub3.sort(reverse=True)\n",
    "#세번째 과목 값만 list로 만들어서 정렬\n",
    "\n",
    "print(sub1[0][0], sub2.index(sub1[0][2])+1, sub3.index(sub1[0][3])+1)\n",
    "#print(첫번째 과목 값으로 정렬된 이름 출력,\n",
    "# 해당 이름의 두번째 과목 값 순서 출력,\n",
    "# 해당 이름의 세번째 과목 값 순서 출력)"
   ]
  }
 ],
 "metadata": {
  "kernelspec": {
   "display_name": "Python 3",
   "language": "python",
   "name": "python3"
  },
  "language_info": {
   "codemirror_mode": {
    "name": "ipython",
    "version": 3
   },
   "file_extension": ".py",
   "mimetype": "text/x-python",
   "name": "python",
   "nbconvert_exporter": "python",
   "pygments_lexer": "ipython3",
   "version": "3.8.3"
  }
 },
 "nbformat": 4,
 "nbformat_minor": 4
}
