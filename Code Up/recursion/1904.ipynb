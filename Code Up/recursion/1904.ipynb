{
 "cells": [
  {
   "cell_type": "code",
   "execution_count": 7,
   "metadata": {
    "scrolled": true
   },
   "outputs": [
    {
     "name": "stdout",
     "output_type": "stream",
     "text": [
      "2 7\n",
      "3 5 7 "
     ]
    }
   ],
   "source": [
    "# code up 1904 : 두 수의 홀수 출력하기\n",
    "# 메모리 33764 시간 26\n",
    "\n",
    "a,b=map(int,input().split())\n",
    "\n",
    "def fn(a,b):\n",
    "    if a>b:\n",
    "        return 0\n",
    "    elif b%2==0: #b가 짝수일 때\n",
    "        fn(a,b-1) #출력 없이 b-1\n",
    "    elif b%2!=0: #b가 홀수일 때\n",
    "        fn(a,b-1)\n",
    "        print(b,end=' ') #출력\n",
    "\n",
    "fn(a,b)"
   ]
  }
 ],
 "metadata": {
  "kernelspec": {
   "display_name": "Python 3",
   "language": "python",
   "name": "python3"
  },
  "language_info": {
   "codemirror_mode": {
    "name": "ipython",
    "version": 3
   },
   "file_extension": ".py",
   "mimetype": "text/x-python",
   "name": "python",
   "nbconvert_exporter": "python",
   "pygments_lexer": "ipython3",
   "version": "3.8.3"
  }
 },
 "nbformat": 4,
 "nbformat_minor": 4
}
