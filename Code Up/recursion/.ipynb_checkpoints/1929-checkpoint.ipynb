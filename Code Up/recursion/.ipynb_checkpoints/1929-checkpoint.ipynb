{
 "cells": [
  {
   "cell_type": "code",
   "execution_count": 4,
   "metadata": {},
   "outputs": [
    {
     "name": "stdout",
     "output_type": "stream",
     "text": [
      "5\n",
      "1\n",
      "2\n",
      "4\n",
      "8\n",
      "16\n",
      "5\n"
     ]
    }
   ],
   "source": [
    "# Code up 1929 : 우박수(3n+1) REVERSE\n",
    "# 메모리 33976 시간 20\n",
    "\n",
    "num=int(input()) #입력값\n",
    "\n",
    "def fn(n):\n",
    "    if n==1:\n",
    "        print(int(n))\n",
    "        return 1\n",
    "    else:\n",
    "        if n%2==1:\n",
    "            fn(3*n+1)\n",
    "        #n이 홀수일 때 n=3n+1\n",
    "        else:\n",
    "            fn(n/2)\n",
    "        print(int(n))\n",
    "        #n이 짝수일 때 n=n/2\n",
    "        \n",
    "fn(num)\n"
   ]
  }
 ],
 "metadata": {
  "kernelspec": {
   "display_name": "Python 3",
   "language": "python",
   "name": "python3"
  },
  "language_info": {
   "codemirror_mode": {
    "name": "ipython",
    "version": 3
   },
   "file_extension": ".py",
   "mimetype": "text/x-python",
   "name": "python",
   "nbconvert_exporter": "python",
   "pygments_lexer": "ipython3",
   "version": "3.8.3"
  }
 },
 "nbformat": 4,
 "nbformat_minor": 4
}
